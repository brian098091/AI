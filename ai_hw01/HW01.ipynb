{
 "cells": [
  {
   "cell_type": "code",
   "execution_count": 18,
   "metadata": {},
   "outputs": [],
   "source": [
    "import numpy as np\n",
    "X1=[11,86,90,93.5,93,90.63,90,99,106,98.33]\n",
    "X2=[11,85.5,70,86.5,88.5,82.63,91,88,90,89.67]\n",
    "X3=[10,77,63.5,58.5,78,69.25,82,73,65,73.33]\n",
    "X4=[8,82.5,75.5,87.5,82.5,82,75,99,91,88.33]\n",
    "X5=[11,91,89,88.5,89.75,89.56,105,97,114,105.33]\n",
    "X6=[11,94.5,89.5,95.5,90.5,92.5,93,116,112,107]\n",
    "X7=[6,78.25,63.5,62.5,67.25,67.88,94,66,77,79]\n",
    "X8=[5,86.5,90.5,82.5,0,64.88,85,94,90,89.67]\n",
    "X9=[11,85,62,63,84.5,73.63,96,95,74,88.33]\n",
    "X10=[10,89,77.5,90,90.5,86.75,95,105,97,99]\n",
    "X11=[8,91.25,90.5,88.5,0,67.56,83,83,60,75.33]\n",
    "X12=[7,70.5,61.5,59,52,60.75,98,95,38,77]\n",
    "X13=[7,84,0,0,0,21,65,0,0,21.67]\n",
    "X14=[11,64,9,0,0,18.25,85,48,71,68]\n",
    "x1=[94]\n",
    "x2=[89]\n",
    "x3=[79]\n",
    "x4=[85]\n",
    "x5=[95]\n",
    "x6=[96]\n",
    "x7=[75]\n",
    "x8=[75]\n",
    "x9=[85]\n",
    "x10=[91]\n",
    "x11=[76]\n",
    "x12=[73]\n",
    "x13=[44]\n",
    "x14=[57]\n",
    "\n",
    "def sigmoid(x):\n",
    "    return 1 / (1 + np.exp(-x))\n",
    "def sigmoid_dev(x):\n",
    "    return x*(1-x)\n",
    "\n",
    "def tanh(x):\n",
    "    return (np.exp(x)- np.exp(-x)) / (np.exp(x)+ np.exp(-x))\n",
    "def tanh_dev(x):\n",
    "    return (1-tanh(x)**2)/200 \n",
    "\n",
    "def mse_loss(y_pred, y_true):\n",
    "    return ((y_pred - y_true) ** 2).mean()\n",
    "\n",
    "\n",
    "X = np.array([X4,X5,X6,X7,X8,X9,X10,X11,X12,X13,X14])\n",
    "Y = np.array([x4,x5,x6,x7,x8,x9,x10,x11,x12,x13,x14])/100\n",
    "x_new = np.array([X1,X2,X3])\n",
    "result_true = np.array([x1,x2,x3])/100\n",
    "for j in range(11):\n",
    "    X[j][0] = X[j][0]/15\n",
    "    for i in range(1,6) :\n",
    "       X[j][i] = X[j][i]/100\n",
    "    for i in range(6,10) :\n",
    "        X[j][i] = X[j][i]/120\n",
    "for j in range(3):\n",
    "    x_new[j][0] = x_new[j][0]/15\n",
    "    for i in range(1,6) :\n",
    "        x_new[j][i] = x_new[j][i]/100\n",
    "    for i in range(6,10) :\n",
    "        x_new[j][i] = x_new[j][i]/120"
   ]
  },
  {
   "attachments": {},
   "cell_type": "markdown",
   "metadata": {},
   "source": [
    "##### 1個神經元(sigmoid)"
   ]
  },
  {
   "cell_type": "code",
   "execution_count": 19,
   "metadata": {},
   "outputs": [
    {
     "name": "stdout",
     "output_type": "stream",
     "text": [
      "\n",
      "1個神經元(sigmoid)預測值為:\n",
      "[89.64385245]\n",
      "[90.61316264]\n",
      "[92.5365197]\n",
      "[76.93364664]\n",
      "[73.98383761]\n",
      "[85.90584622]\n",
      "[90.21690734]\n",
      "[77.32766699]\n",
      "[72.36494535]\n",
      "[43.33494948]\n",
      "[57.63479813]\n",
      "\n",
      "MSE: 0.0005638365921023528\n",
      "\n",
      "1個神經元(sigmoid)預測值為:\n",
      "[92.4476419]\n",
      "[90.1535177]\n",
      "[84.81115779]\n",
      "\n",
      "MSE: 0.0012503324525327505\n"
     ]
    }
   ],
   "source": [
    "\n",
    "np.random.seed(1)\n",
    "W1 = 2 * np.random.random((10,1)) - 1\n",
    "\n",
    "\n",
    "for j in range(10000):\n",
    "        \n",
    "    l1_output = sigmoid(np.dot(X, W1))\n",
    "    \n",
    "    d_l1_output =(l1_output - Y) * sigmoid_dev(l1_output)\n",
    "    \n",
    "    W1 -= 0.1 * X.T.dot(d_l1_output)\n",
    "\n",
    "\n",
    "print(\"\\n1個神經元(sigmoid)預測值為:\")\n",
    "for i in range(11):\n",
    "    print(100*l1_output[i])\n",
    "loss = mse_loss(l1_output, Y).mean()\n",
    "print(\"\\nMSE:\",loss)\n",
    "\n",
    "l1_output = sigmoid(np.dot(x_new, W1))\n",
    "\n",
    "y_new = l1_output\n",
    "\n",
    "\n",
    "print(\"\\n1個神經元(sigmoid)預測值為:\")\n",
    "for i in range(3):\n",
    "    print(100*y_new[i])\n",
    "loss = mse_loss(y_new, result_true).mean()\n",
    "print(\"\\nMSE:\",loss)\n"
   ]
  },
  {
   "attachments": {},
   "cell_type": "markdown",
   "metadata": {},
   "source": [
    "##### 1個神經元(tanh)"
   ]
  },
  {
   "cell_type": "code",
   "execution_count": 20,
   "metadata": {},
   "outputs": [
    {
     "name": "stdout",
     "output_type": "stream",
     "text": [
      "\n",
      "1個神經元(tanh)預測值為:\n",
      "[88.47543429]\n",
      "[89.65230643]\n",
      "[92.01253423]\n",
      "[78.68895123]\n",
      "[78.48991891]\n",
      "[85.53977766]\n",
      "[90.09717553]\n",
      "[75.22677968]\n",
      "[73.206027]\n",
      "[41.92204439]\n",
      "[59.55376521]\n",
      "\n",
      "MSE: 0.0008631875770464798\n",
      "\n",
      "1個神經元(tanh)預測值為:\n",
      "[89.63765223]\n",
      "[88.20890212]\n",
      "[79.75067529]\n",
      "\n",
      "MSE: 0.0006739809113898709\n"
     ]
    }
   ],
   "source": [
    "np.random.seed(1)\n",
    "W1 = 2 * np.random.random((10,1)) - 1\n",
    "\n",
    "\n",
    "for j in range(10000):\n",
    "        \n",
    "    l1_output = tanh(np.dot(X, W1))\n",
    "\n",
    "    d_l1_output =(l1_output - Y) * tanh_dev(l1_output)\n",
    "    \n",
    "    W1 -= 0.1 * X.T.dot(d_l1_output)\n",
    "\n",
    "print(\"\\n1個神經元(tanh)預測值為:\")\n",
    "for i in range(11):\n",
    "    print(100*l1_output[i])\n",
    "loss = mse_loss(l1_output, Y).mean()\n",
    "print(\"\\nMSE:\",loss)\n",
    "l1_output = tanh(np.dot(x_new, W1))\n",
    "\n",
    "y_new = l1_output\n",
    "loss = mse_loss(y_new, result_true).mean()\n",
    "print(\"\\n1個神經元(tanh)預測值為:\")\n",
    "for i in range(3):\n",
    "    print(100*y_new[i])\n",
    "\n",
    "print(\"\\nMSE:\",loss)"
   ]
  },
  {
   "attachments": {},
   "cell_type": "markdown",
   "metadata": {},
   "source": [
    "##### 2個神經元(sigmoid)"
   ]
  },
  {
   "cell_type": "code",
   "execution_count": 21,
   "metadata": {},
   "outputs": [
    {
     "name": "stdout",
     "output_type": "stream",
     "text": [
      "\n",
      "2個神經元(sigmoid)預測值為:\n",
      "[93.00111443]\n",
      "[90.67707494]\n",
      "[85.85317394]\n",
      "\n",
      "MSE: 0.0016925448615562576\n"
     ]
    }
   ],
   "source": [
    "np.random.seed(1)\n",
    "W1 = 2 * np.random.random((10,2)) - 1\n",
    "W2 = 2 * np.random.random((2, 1)) - 1\n",
    "\n",
    "for j in range(10000):\n",
    "        \n",
    "    l1_output = sigmoid(np.dot(X, W1))\n",
    "    l2_output = sigmoid(np.dot(l1_output, W2))\n",
    "\n",
    "\n",
    "        \n",
    "    d_l2_output =  (l2_output - Y) * sigmoid_dev(l2_output)\n",
    "    d_l1_output = d_l2_output.dot(W2.T) * sigmoid_dev(l1_output)\n",
    "\n",
    "    \n",
    "    W2 -= 0.1 * l1_output.T.dot(d_l2_output)\n",
    "    W1 -= 0.1 * X.T.dot(d_l1_output)\n",
    "\n",
    "\n",
    "l1_output = sigmoid(np.dot(x_new, W1))\n",
    "l2_output = sigmoid(np.dot(l1_output, W2))\n",
    "y_new = l2_output\n",
    "loss = mse_loss(y_new, result_true).mean()\n",
    "\n",
    "print(\"\\n2個神經元(sigmoid)預測值為:\")\n",
    "for i in range(3):\n",
    "    print(100*y_new[i])\n",
    "print(\"\\nMSE:\",loss)\n",
    "\n"
   ]
  },
  {
   "attachments": {},
   "cell_type": "markdown",
   "metadata": {},
   "source": [
    "##### 2個神經元(tanh)"
   ]
  },
  {
   "cell_type": "code",
   "execution_count": 22,
   "metadata": {},
   "outputs": [
    {
     "name": "stdout",
     "output_type": "stream",
     "text": [
      "\n",
      "2個神經元(tanh)預測值為:\n",
      "[85.44607273]\n",
      "[84.264268]\n",
      "[79.82628017]\n",
      "\n",
      "MSE: 0.0032093189450838363\n"
     ]
    }
   ],
   "source": [
    "np.random.seed(1)\n",
    "W1 = 2 * np.random.random((10,10)) - 1\n",
    "W2 = 2 * np.random.random((10, 1)) - 1\n",
    "\n",
    "for j in range(10000):\n",
    "        \n",
    "    l1_output = tanh(np.dot(X, W1))\n",
    "    l2_output = tanh(np.dot(l1_output, W2))\n",
    "\n",
    "\n",
    "        \n",
    "    d_l2_output =  (l2_output - Y) * tanh_dev(l2_output)\n",
    "    d_l1_output = d_l2_output.dot(W2.T) * tanh_dev(l1_output)\n",
    "\n",
    "    \n",
    "    W2 -= 0.1 * l1_output.T.dot(d_l2_output)\n",
    "    W1 -= 0.1 * X.T.dot(d_l1_output)\n",
    "\n",
    "l1_output = tanh(np.dot(x_new, W1))\n",
    "l2_output =tanh(np.dot(l1_output, W2))\n",
    "y_new = l2_output\n",
    "loss = mse_loss(y_new, result_true).mean()\n",
    "\n",
    "print(\"\\n2個神經元(tanh)預測值為:\")\n",
    "for i in range(3):\n",
    "    print(100*y_new[i])\n",
    "print(\"\\nMSE:\",loss)"
   ]
  },
  {
   "attachments": {},
   "cell_type": "markdown",
   "metadata": {},
   "source": [
    "##### 3個神經元(sigmoid)"
   ]
  },
  {
   "cell_type": "code",
   "execution_count": 23,
   "metadata": {},
   "outputs": [
    {
     "name": "stdout",
     "output_type": "stream",
     "text": [
      "\n",
      "3個神經元(sigmoid)預測值為:\n",
      "[93.02800903]\n",
      "[90.32152427]\n",
      "[84.9575479]\n",
      "\n",
      "MSE: 0.0012727856619012532\n"
     ]
    }
   ],
   "source": [
    "np.random.seed(1)\n",
    "W1 = 2 * np.random.random((10,5)) - 1\n",
    "W2 = 2 * np.random.random((5, 2)) - 1\n",
    "W3 = 2 * np.random.random((2, 1)) - 1\n",
    "\n",
    "for j in range(10000):\n",
    "        \n",
    "    l1_output = sigmoid(np.dot(X, W1))\n",
    "    l2_output = sigmoid(np.dot(l1_output, W2))\n",
    "    l3_output = sigmoid(np.dot(l2_output, W3))\n",
    "\n",
    "\n",
    "    d_l3_output =  (l3_output - Y) * sigmoid_dev(l3_output) \n",
    "    d_l2_output = d_l3_output.dot(W3.T) * sigmoid_dev(l2_output)\n",
    "    d_l1_output = d_l2_output.dot(W2.T) * sigmoid_dev(l1_output)\n",
    "\n",
    "    W3 -= 0.1 * l2_output.T.dot(d_l3_output)\n",
    "    W2 -= 0.1 * l1_output.T.dot(d_l2_output)\n",
    "    W1 -= 0.1 * X.T.dot(d_l1_output)\n",
    "\n",
    "l1_output = sigmoid(np.dot(x_new, W1))\n",
    "l2_output = sigmoid(np.dot(l1_output, W2))\n",
    "l3_output = sigmoid(np.dot(l2_output, W3))\n",
    "y_new = l3_output\n",
    "loss = mse_loss(y_new, result_true).mean()\n",
    "\n",
    "print(\"\\n3個神經元(sigmoid)預測值為:\")\n",
    "for i in range(3):\n",
    "    print(100*y_new[i])\n",
    "print(\"\\nMSE:\",loss)\n"
   ]
  }
 ],
 "metadata": {
  "language_info": {
   "name": "python"
  },
  "orig_nbformat": 4
 },
 "nbformat": 4,
 "nbformat_minor": 2
}
